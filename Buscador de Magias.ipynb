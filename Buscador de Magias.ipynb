{
 "cells": [
  {
   "cell_type": "code",
   "execution_count": 1,
   "metadata": {},
   "outputs": [],
   "source": [
    "from spellbook import *"
   ]
  },
  {
   "cell_type": "code",
   "execution_count": 2,
   "metadata": {},
   "outputs": [],
   "source": [
    "import pickle\n",
    "from IPython.display import display, HTML"
   ]
  },
  {
   "cell_type": "code",
   "execution_count": 3,
   "metadata": {},
   "outputs": [],
   "source": [
    "with open('Papiros Imperiais de Akhetmun-Heh.bin','rb') as bsl:\n",
    "    spells_3P = pickle.load(bsl)"
   ]
  },
  {
   "cell_type": "code",
   "execution_count": 4,
   "metadata": {},
   "outputs": [],
   "source": [
    "library = spells_3P"
   ]
  },
  {
   "cell_type": "code",
   "execution_count": 5,
   "metadata": {},
   "outputs": [],
   "source": [
    "spellbook = Spellbook(library,'wizard',7)\n",
    "spellbook.filter_forbidden_school('necromancy')\n",
    "spellbook.filter_forbidden_school('illusion')\n",
    "spellbook.filter_forbidden_school('enchantment')"
   ]
  },
  {
   "cell_type": "code",
   "execution_count": 6,
   "metadata": {},
   "outputs": [
    {
     "name": "stdout",
     "output_type": "stream",
     "text": [
      "SB pages = 9965\n"
     ]
    }
   ],
   "source": [
    "sb_pages = 0\n",
    "for s in spellbook.spells:\n",
    "    sb_pages += int(s.level('wizard'))\n",
    "print(\"SB pages = \"+str(sb_pages))"
   ]
  },
  {
   "cell_type": "code",
   "execution_count": 7,
   "metadata": {
    "scrolled": true
   },
   "outputs": [],
   "source": [
    "def print_result_spells(result_spells):\n",
    "    for s in result_spells:\n",
    "        urltext = s.url if s.url else 'https://cse.google.com/cse?cx=006680642033474972217%3A6zo0hx_wle8&q='+'+'.join(s.name.split())\n",
    "\n",
    "        display_text = \"[{slevel}] {sname} [ {sedition}: <a href='{surl}'>link</a> ]\"\n",
    "        #html = HTML(display_text.format(slevel=s.levels['wizard'],sname=s.name,surl=urltext))\n",
    "        html = HTML(display_text.format(slevel=s.level('wizard'),sname=s.name,sedition=s.edition,surl=urltext))\n",
    "        display(html)\n",
    "\n",
    "        #print(f\"{s.level('wizard')}: {s.name} [ {s.edition}: {urltext} ]\")"
   ]
  },
  {
   "cell_type": "code",
   "execution_count": 20,
   "metadata": {},
   "outputs": [
    {
     "data": {
      "text/html": [
       "[0] Caltrops [ D&D 3.?: <a href='https://dnd.arkalseif.info/spells/spell-compendium--86/caltrops--3774/'>link</a> ]"
      ],
      "text/plain": [
       "<IPython.core.display.HTML object>"
      ]
     },
     "metadata": {},
     "output_type": "display_data"
    },
    {
     "data": {
      "text/html": [
       "[1] Armor Lock [ D&D 3.?: <a href='https://dnd.arkalseif.info/spells/complete-scoundrel--60/armor-lock--910/'>link</a> ]"
      ],
      "text/plain": [
       "<IPython.core.display.HTML object>"
      ]
     },
     "metadata": {},
     "output_type": "display_data"
    },
    {
     "data": {
      "text/html": [
       "[1] Summon Marked Homunculus [ D&D 3.?: <a href='https://dnd.arkalseif.info/spells/dragonmarked--7/summon-marked-homunculus--4871/'>link</a> ]"
      ],
      "text/plain": [
       "<IPython.core.display.HTML object>"
      ]
     },
     "metadata": {},
     "output_type": "display_data"
    },
    {
     "data": {
      "text/html": [
       "[1] Treacherous Weapon [ D&D 3.?: <a href='https://dnd.arkalseif.info/spells/exemplars-of-evil--64/treacherous-weapon--4972/'>link</a> ]"
      ],
      "text/plain": [
       "<IPython.core.display.HTML object>"
      ]
     },
     "metadata": {},
     "output_type": "display_data"
    },
    {
     "data": {
      "text/html": [
       "[1] Alarm [ D&D 3.?: <a href='https://dnd.arkalseif.info/spells/players-handbook-v35--6/alarm--2299/'>link</a> ]"
      ],
      "text/plain": [
       "<IPython.core.display.HTML object>"
      ]
     },
     "metadata": {},
     "output_type": "display_data"
    },
    {
     "data": {
      "text/html": [
       "[1] Animate Rope [ D&D 3.?: <a href='https://dnd.arkalseif.info/spells/players-handbook-v35--6/animate-rope--2779/'>link</a> ]"
      ],
      "text/plain": [
       "<IPython.core.display.HTML object>"
      ]
     },
     "metadata": {},
     "output_type": "display_data"
    },
    {
     "data": {
      "text/html": [
       "[1] Enlarge Person [ D&D 3.?: <a href='https://dnd.arkalseif.info/spells/players-handbook-v35--6/enlarge-person--2805/'>link</a> ]"
      ],
      "text/plain": [
       "<IPython.core.display.HTML object>"
      ]
     },
     "metadata": {},
     "output_type": "display_data"
    },
    {
     "data": {
      "text/html": [
       "[1] Reduce Person [ D&D 3.?: <a href='https://dnd.arkalseif.info/spells/players-handbook-v35--6/reduce-person--2860/'>link</a> ]"
      ],
      "text/plain": [
       "<IPython.core.display.HTML object>"
      ]
     },
     "metadata": {},
     "output_type": "display_data"
    },
    {
     "data": {
      "text/html": [
       "[1] Alarm [ PF: <a href='https://cse.google.com/cse?cx=006680642033474972217%3A6zo0hx_wle8&q=Alarm'>link</a> ]"
      ],
      "text/plain": [
       "<IPython.core.display.HTML object>"
      ]
     },
     "metadata": {},
     "output_type": "display_data"
    },
    {
     "data": {
      "text/html": [
       "[1] Animate Rope [ PF: <a href='https://cse.google.com/cse?cx=006680642033474972217%3A6zo0hx_wle8&q=Animate+Rope'>link</a> ]"
      ],
      "text/plain": [
       "<IPython.core.display.HTML object>"
      ]
     },
     "metadata": {},
     "output_type": "display_data"
    },
    {
     "data": {
      "text/html": [
       "[1] Enlarge Person [ PF: <a href='https://cse.google.com/cse?cx=006680642033474972217%3A6zo0hx_wle8&q=Enlarge+Person'>link</a> ]"
      ],
      "text/plain": [
       "<IPython.core.display.HTML object>"
      ]
     },
     "metadata": {},
     "output_type": "display_data"
    },
    {
     "data": {
      "text/html": [
       "[1] Reduce Person [ PF: <a href='https://cse.google.com/cse?cx=006680642033474972217%3A6zo0hx_wle8&q=Reduce+Person'>link</a> ]"
      ],
      "text/plain": [
       "<IPython.core.display.HTML object>"
      ]
     },
     "metadata": {},
     "output_type": "display_data"
    },
    {
     "data": {
      "text/html": [
       "[1] Wave Shield [ PF: <a href='https://cse.google.com/cse?cx=006680642033474972217%3A6zo0hx_wle8&q=Wave+Shield'>link</a> ]"
      ],
      "text/plain": [
       "<IPython.core.display.HTML object>"
      ]
     },
     "metadata": {},
     "output_type": "display_data"
    },
    {
     "data": {
      "text/html": [
       "[1] Dancing Darkness [ PF: <a href='https://cse.google.com/cse?cx=006680642033474972217%3A6zo0hx_wle8&q=Dancing+Darkness'>link</a> ]"
      ],
      "text/plain": [
       "<IPython.core.display.HTML object>"
      ]
     },
     "metadata": {},
     "output_type": "display_data"
    },
    {
     "data": {
      "text/html": [
       "[2] Earthen Grasp [ D&D 3.?: <a href='https://dnd.arkalseif.info/spells/complete-arcane--55/earthen-grasp--542/'>link</a> ]"
      ],
      "text/plain": [
       "<IPython.core.display.HTML object>"
      ]
     },
     "metadata": {},
     "output_type": "display_data"
    },
    {
     "data": {
      "text/html": [
       "[2] Boiling Blood [ D&D 3.?: <a href='https://dnd.arkalseif.info/spells/complete-mage--58/boiling-blood--869/'>link</a> ]"
      ],
      "text/plain": [
       "<IPython.core.display.HTML object>"
      ]
     },
     "metadata": {},
     "output_type": "display_data"
    },
    {
     "data": {
      "text/html": [
       "[2] Scale Weakening [ D&D 3.?: <a href='https://dnd.arkalseif.info/spells/draconomicon--92/scale-weakening--1044/'>link</a> ]"
      ],
      "text/plain": [
       "<IPython.core.display.HTML object>"
      ]
     },
     "metadata": {},
     "output_type": "display_data"
    },
    {
     "data": {
      "text/html": [
       "[2] Combust [ D&D 3.?: <a href='https://dnd.arkalseif.info/spells/lords-of-darkness--95/combust--1511/'>link</a> ]"
      ],
      "text/plain": [
       "<IPython.core.display.HTML object>"
      ]
     },
     "metadata": {},
     "output_type": "display_data"
    },
    {
     "data": {
      "text/html": [
       "[2] Combust [ D&D 3.?: <a href='https://dnd.arkalseif.info/spells/magic-of-faerun--20/combust--1664/'>link</a> ]"
      ],
      "text/plain": [
       "<IPython.core.display.HTML object>"
      ]
     },
     "metadata": {},
     "output_type": "display_data"
    },
    {
     "data": {
      "text/html": [
       "[2] Resist Energy [ D&D 3.?: <a href='https://dnd.arkalseif.info/spells/players-handbook-v35--6/resist-energy--2357/'>link</a> ]"
      ],
      "text/plain": [
       "<IPython.core.display.HTML object>"
      ]
     },
     "metadata": {},
     "output_type": "display_data"
    },
    {
     "data": {
      "text/html": [
       "[2] Force Hammer [ D&D 3.?: <a href='https://dnd.arkalseif.info/spells/sharn-city-of-towers--11/force-hammer--4791/'>link</a> ]"
      ],
      "text/plain": [
       "<IPython.core.display.HTML object>"
      ]
     },
     "metadata": {},
     "output_type": "display_data"
    },
    {
     "data": {
      "text/html": [
       "[2] Earthen Grasp [ D&D 3.?: <a href='https://dnd.arkalseif.info/spells/spell-compendium--86/earthen-grasp--4245/'>link</a> ]"
      ],
      "text/plain": [
       "<IPython.core.display.HTML object>"
      ]
     },
     "metadata": {},
     "output_type": "display_data"
    },
    {
     "data": {
      "text/html": [
       "[2] Fuse Arms [ D&D 3.?: <a href='https://dnd.arkalseif.info/spells/spell-compendium--86/fuse-arms--4542/'>link</a> ]"
      ],
      "text/plain": [
       "<IPython.core.display.HTML object>"
      ]
     },
     "metadata": {},
     "output_type": "display_data"
    },
    {
     "data": {
      "text/html": [
       "[2] Scale Weakening [ D&D 3.?: <a href='https://dnd.arkalseif.info/spells/spell-compendium--86/scale-weakening--4126/'>link</a> ]"
      ],
      "text/plain": [
       "<IPython.core.display.HTML object>"
      ]
     },
     "metadata": {},
     "output_type": "display_data"
    },
    {
     "data": {
      "text/html": [
       "[2] Ice Knife [ D&D 3.?: <a href='https://dnd.arkalseif.info/spells/tome-and-blood-a-guidebook-to-wizards-and-sorcerers--51/ice-knife--3388/'>link</a> ]"
      ],
      "text/plain": [
       "<IPython.core.display.HTML object>"
      ]
     },
     "metadata": {},
     "output_type": "display_data"
    },
    {
     "data": {
      "text/html": [
       "[2] Resist Energy [ PF: <a href='https://cse.google.com/cse?cx=006680642033474972217%3A6zo0hx_wle8&q=Resist+Energy'>link</a> ]"
      ],
      "text/plain": [
       "<IPython.core.display.HTML object>"
      ]
     },
     "metadata": {},
     "output_type": "display_data"
    },
    {
     "data": {
      "text/html": [
       "[2] Disfiguring Touch [ PF: <a href='https://cse.google.com/cse?cx=006680642033474972217%3A6zo0hx_wle8&q=Disfiguring+Touch'>link</a> ]"
      ],
      "text/plain": [
       "<IPython.core.display.HTML object>"
      ]
     },
     "metadata": {},
     "output_type": "display_data"
    },
    {
     "data": {
      "text/html": [
       "[2] Burning Arc [ PF: <a href='https://cse.google.com/cse?cx=006680642033474972217%3A6zo0hx_wle8&q=Burning+Arc'>link</a> ]"
      ],
      "text/plain": [
       "<IPython.core.display.HTML object>"
      ]
     },
     "metadata": {},
     "output_type": "display_data"
    },
    {
     "data": {
      "text/html": [
       "[2] Aram Zey's Focus [ PF: <a href='https://cse.google.com/cse?cx=006680642033474972217%3A6zo0hx_wle8&q=Aram+Zey's+Focus'>link</a> ]"
      ],
      "text/plain": [
       "<IPython.core.display.HTML object>"
      ]
     },
     "metadata": {},
     "output_type": "display_data"
    },
    {
     "data": {
      "text/html": [
       "[2] Spontaneous Immolation [ PF: <a href='https://cse.google.com/cse?cx=006680642033474972217%3A6zo0hx_wle8&q=Spontaneous+Immolation'>link</a> ]"
      ],
      "text/plain": [
       "<IPython.core.display.HTML object>"
      ]
     },
     "metadata": {},
     "output_type": "display_data"
    },
    {
     "data": {
      "text/html": [
       "[2] Track Ship [ PF: <a href='https://cse.google.com/cse?cx=006680642033474972217%3A6zo0hx_wle8&q=Track+Ship'>link</a> ]"
      ],
      "text/plain": [
       "<IPython.core.display.HTML object>"
      ]
     },
     "metadata": {},
     "output_type": "display_data"
    },
    {
     "data": {
      "text/html": [
       "[2] Brittle Portal [ PF: <a href='https://cse.google.com/cse?cx=006680642033474972217%3A6zo0hx_wle8&q=Brittle+Portal'>link</a> ]"
      ],
      "text/plain": [
       "<IPython.core.display.HTML object>"
      ]
     },
     "metadata": {},
     "output_type": "display_data"
    },
    {
     "data": {
      "text/html": [
       "[2] Air Step [ PF: <a href='https://cse.google.com/cse?cx=006680642033474972217%3A6zo0hx_wle8&q=Air+Step'>link</a> ]"
      ],
      "text/plain": [
       "<IPython.core.display.HTML object>"
      ]
     },
     "metadata": {},
     "output_type": "display_data"
    },
    {
     "data": {
      "text/html": [
       "[2] Whip Of Spiders [ PF: <a href='https://cse.google.com/cse?cx=006680642033474972217%3A6zo0hx_wle8&q=Whip+Of+Spiders'>link</a> ]"
      ],
      "text/plain": [
       "<IPython.core.display.HTML object>"
      ]
     },
     "metadata": {},
     "output_type": "display_data"
    },
    {
     "data": {
      "text/html": [
       "[2] Blade Tutor's Spirit [ PF: <a href='https://cse.google.com/cse?cx=006680642033474972217%3A6zo0hx_wle8&q=Blade+Tutor's+Spirit'>link</a> ]"
      ],
      "text/plain": [
       "<IPython.core.display.HTML object>"
      ]
     },
     "metadata": {},
     "output_type": "display_data"
    },
    {
     "data": {
      "text/html": [
       "[2] Harmless Form [ PF: <a href='https://cse.google.com/cse?cx=006680642033474972217%3A6zo0hx_wle8&q=Harmless+Form'>link</a> ]"
      ],
      "text/plain": [
       "<IPython.core.display.HTML object>"
      ]
     },
     "metadata": {},
     "output_type": "display_data"
    },
    {
     "data": {
      "text/html": [
       "[2] Splinter Spell Resistance [ PF: <a href='https://cse.google.com/cse?cx=006680642033474972217%3A6zo0hx_wle8&q=Splinter+Spell+Resistance'>link</a> ]"
      ],
      "text/plain": [
       "<IPython.core.display.HTML object>"
      ]
     },
     "metadata": {},
     "output_type": "display_data"
    },
    {
     "data": {
      "text/html": [
       "[2] Fungal Blisters [ PF: <a href='https://cse.google.com/cse?cx=006680642033474972217%3A6zo0hx_wle8&q=Fungal+Blisters'>link</a> ]"
      ],
      "text/plain": [
       "<IPython.core.display.HTML object>"
      ]
     },
     "metadata": {},
     "output_type": "display_data"
    },
    {
     "data": {
      "text/html": [
       "[3] Billim's Bifrost Bridge [ D&D 3.?: <a href='https://dnd.arkalseif.info/spells/dragonlance-campaign-setting--98/billims-bifrost-bridge--4998/'>link</a> ]"
      ],
      "text/plain": [
       "<IPython.core.display.HTML object>"
      ]
     },
     "metadata": {},
     "output_type": "display_data"
    },
    {
     "data": {
      "text/html": [
       "[3] Shatterfloor [ D&D 3.?: <a href='https://dnd.arkalseif.info/spells/magic-of-faerun--20/shatterfloor--1687/'>link</a> ]"
      ],
      "text/plain": [
       "<IPython.core.display.HTML object>"
      ]
     },
     "metadata": {},
     "output_type": "display_data"
    },
    {
     "data": {
      "text/html": [
       "[3] Babau Slime [ D&D 3.?: <a href='https://dnd.arkalseif.info/spells/planar-handbook--79/babau-slime--2196/'>link</a> ]"
      ],
      "text/plain": [
       "<IPython.core.display.HTML object>"
      ]
     },
     "metadata": {},
     "output_type": "display_data"
    },
    {
     "data": {
      "text/html": [
       "[3] Devil Blight [ D&D 3.?: <a href='https://dnd.arkalseif.info/spells/planar-handbook--79/devil-blight--2201/'>link</a> ]"
      ],
      "text/plain": [
       "<IPython.core.display.HTML object>"
      ]
     },
     "metadata": {},
     "output_type": "display_data"
    },
    {
     "data": {
      "text/html": [
       "[3] Ray of the Python [ D&D 3.?: <a href='https://dnd.arkalseif.info/spells/players-handbook-ii--80/ray-of-the-python--2977/'>link</a> ]"
      ],
      "text/plain": [
       "<IPython.core.display.HTML object>"
      ]
     },
     "metadata": {},
     "output_type": "display_data"
    },
    {
     "data": {
      "text/html": [
       "[3] Shrink Item [ D&D 3.?: <a href='https://dnd.arkalseif.info/spells/players-handbook-v35--6/shrink-item--2872/'>link</a> ]"
      ],
      "text/plain": [
       "<IPython.core.display.HTML object>"
      ]
     },
     "metadata": {},
     "output_type": "display_data"
    },
    {
     "data": {
      "text/html": [
       "[3] Storm Mote [ D&D 3.?: <a href='https://dnd.arkalseif.info/spells/sandstorm--85/storm-mote--3160/'>link</a> ]"
      ],
      "text/plain": [
       "<IPython.core.display.HTML object>"
      ]
     },
     "metadata": {},
     "output_type": "display_data"
    },
    {
     "data": {
      "text/html": [
       "[3] Fuse Arms [ D&D 3.?: <a href='https://dnd.arkalseif.info/spells/savage-species--47/fuse-arms--3228/'>link</a> ]"
      ],
      "text/plain": [
       "<IPython.core.display.HTML object>"
      ]
     },
     "metadata": {},
     "output_type": "display_data"
    },
    {
     "data": {
      "text/html": [
       "[3] Dream Spirit [ D&D 3.?: <a href='https://dnd.arkalseif.info/spells/secrets-of-sarlona--14/dream-spirit--4796/'>link</a> ]"
      ],
      "text/plain": [
       "<IPython.core.display.HTML object>"
      ]
     },
     "metadata": {},
     "output_type": "display_data"
    },
    {
     "data": {
      "text/html": [
       "[3] Shockwave [ D&D 3.?: <a href='https://dnd.arkalseif.info/spells/sharn-city-of-towers--11/shockwave--4792/'>link</a> ]"
      ],
      "text/plain": [
       "<IPython.core.display.HTML object>"
      ]
     },
     "metadata": {},
     "output_type": "display_data"
    },
    {
     "data": {
      "text/html": [
       "[3] Rust Ray [ D&D 3.?: <a href='https://dnd.arkalseif.info/spells/spell-compendium--86/rust-ray--4117/'>link</a> ]"
      ],
      "text/plain": [
       "<IPython.core.display.HTML object>"
      ]
     },
     "metadata": {},
     "output_type": "display_data"
    },
    {
     "data": {
      "text/html": [
       "[3] Spell Vulnerability [ D&D 3.?: <a href='https://dnd.arkalseif.info/spells/spell-compendium--86/spell-vulnerability--4211/'>link</a> ]"
      ],
      "text/plain": [
       "<IPython.core.display.HTML object>"
      ]
     },
     "metadata": {},
     "output_type": "display_data"
    },
    {
     "data": {
      "text/html": [
       "[3] Shrink Item [ PF: <a href='https://cse.google.com/cse?cx=006680642033474972217%3A6zo0hx_wle8&q=Shrink+Item'>link</a> ]"
      ],
      "text/plain": [
       "<IPython.core.display.HTML object>"
      ]
     },
     "metadata": {},
     "output_type": "display_data"
    },
    {
     "data": {
      "text/html": [
       "[3] Excruciating Deformation [ PF: <a href='https://cse.google.com/cse?cx=006680642033474972217%3A6zo0hx_wle8&q=Excruciating+Deformation'>link</a> ]"
      ],
      "text/plain": [
       "<IPython.core.display.HTML object>"
      ]
     },
     "metadata": {},
     "output_type": "display_data"
    },
    {
     "data": {
      "text/html": [
       "[3] Force Punch [ PF: <a href='https://cse.google.com/cse?cx=006680642033474972217%3A6zo0hx_wle8&q=Force+Punch'>link</a> ]"
      ],
      "text/plain": [
       "<IPython.core.display.HTML object>"
      ]
     },
     "metadata": {},
     "output_type": "display_data"
    },
    {
     "data": {
      "text/html": [
       "[3] Ablative Sphere [ PF: <a href='https://cse.google.com/cse?cx=006680642033474972217%3A6zo0hx_wle8&q=Ablative+Sphere'>link</a> ]"
      ],
      "text/plain": [
       "<IPython.core.display.HTML object>"
      ]
     },
     "metadata": {},
     "output_type": "display_data"
    },
    {
     "data": {
      "text/html": [
       "[3] Blot [ PF: <a href='https://cse.google.com/cse?cx=006680642033474972217%3A6zo0hx_wle8&q=Blot'>link</a> ]"
      ],
      "text/plain": [
       "<IPython.core.display.HTML object>"
      ]
     },
     "metadata": {},
     "output_type": "display_data"
    },
    {
     "data": {
      "text/html": [
       "[3] Unravel Destiny [ PF: <a href='https://cse.google.com/cse?cx=006680642033474972217%3A6zo0hx_wle8&q=Unravel+Destiny'>link</a> ]"
      ],
      "text/plain": [
       "<IPython.core.display.HTML object>"
      ]
     },
     "metadata": {},
     "output_type": "display_data"
    },
    {
     "data": {
      "text/html": [
       "[3] Fire Trail [ PF: <a href='https://cse.google.com/cse?cx=006680642033474972217%3A6zo0hx_wle8&q=Fire+Trail'>link</a> ]"
      ],
      "text/plain": [
       "<IPython.core.display.HTML object>"
      ]
     },
     "metadata": {},
     "output_type": "display_data"
    },
    {
     "data": {
      "text/html": [
       "[3] Dragon Turtle Shell [ PF: <a href='https://cse.google.com/cse?cx=006680642033474972217%3A6zo0hx_wle8&q=Dragon+Turtle+Shell'>link</a> ]"
      ],
      "text/plain": [
       "<IPython.core.display.HTML object>"
      ]
     },
     "metadata": {},
     "output_type": "display_data"
    },
    {
     "data": {
      "text/html": [
       "[3] Recharge [ PF: <a href='https://cse.google.com/cse?cx=006680642033474972217%3A6zo0hx_wle8&q=Recharge'>link</a> ]"
      ],
      "text/plain": [
       "<IPython.core.display.HTML object>"
      ]
     },
     "metadata": {},
     "output_type": "display_data"
    },
    {
     "data": {
      "text/html": [
       "[3] Anchored Step [ PF: <a href='https://cse.google.com/cse?cx=006680642033474972217%3A6zo0hx_wle8&q=Anchored+Step'>link</a> ]"
      ],
      "text/plain": [
       "<IPython.core.display.HTML object>"
      ]
     },
     "metadata": {},
     "output_type": "display_data"
    },
    {
     "data": {
      "text/html": [
       "[3] Trial Of Fire And Acid [ PF: <a href='https://cse.google.com/cse?cx=006680642033474972217%3A6zo0hx_wle8&q=Trial+Of+Fire+And+Acid'>link</a> ]"
      ],
      "text/plain": [
       "<IPython.core.display.HTML object>"
      ]
     },
     "metadata": {},
     "output_type": "display_data"
    },
    {
     "data": {
      "text/html": [
       "[3] Thunderous Footfalls [ PF: <a href='https://cse.google.com/cse?cx=006680642033474972217%3A6zo0hx_wle8&q=Thunderous+Footfalls'>link</a> ]"
      ],
      "text/plain": [
       "<IPython.core.display.HTML object>"
      ]
     },
     "metadata": {},
     "output_type": "display_data"
    },
    {
     "data": {
      "text/html": [
       "[3] Quell Energy [ PF: <a href='https://cse.google.com/cse?cx=006680642033474972217%3A6zo0hx_wle8&q=Quell+Energy'>link</a> ]"
      ],
      "text/plain": [
       "<IPython.core.display.HTML object>"
      ]
     },
     "metadata": {},
     "output_type": "display_data"
    },
    {
     "data": {
      "text/html": [
       "[3] Sebaceous Twin [ PF: <a href='https://cse.google.com/cse?cx=006680642033474972217%3A6zo0hx_wle8&q=Sebaceous+Twin'>link</a> ]"
      ],
      "text/plain": [
       "<IPython.core.display.HTML object>"
      ]
     },
     "metadata": {},
     "output_type": "display_data"
    },
    {
     "data": {
      "text/html": [
       "[3] Infernal Challenger [ PF: <a href='https://cse.google.com/cse?cx=006680642033474972217%3A6zo0hx_wle8&q=Infernal+Challenger'>link</a> ]"
      ],
      "text/plain": [
       "<IPython.core.display.HTML object>"
      ]
     },
     "metadata": {},
     "output_type": "display_data"
    },
    {
     "data": {
      "text/html": [
       "[4] Radiant Fog [ D&D 3.?: <a href='https://dnd.arkalseif.info/spells/book-of-exalted-deeds--52/radiant-fog--29/'>link</a> ]"
      ],
      "text/plain": [
       "<IPython.core.display.HTML object>"
      ]
     },
     "metadata": {},
     "output_type": "display_data"
    },
    {
     "data": {
      "text/html": [
       "[4] Orb of Acid [ D&D 3.?: <a href='https://dnd.arkalseif.info/spells/complete-arcane--55/orb-acid--462/'>link</a> ]"
      ],
      "text/plain": [
       "<IPython.core.display.HTML object>"
      ]
     },
     "metadata": {},
     "output_type": "display_data"
    },
    {
     "data": {
      "text/html": [
       "[4] Create Fetch [ D&D 3.?: <a href='https://dnd.arkalseif.info/spells/complete-scoundrel--60/create-fetch--898/'>link</a> ]"
      ],
      "text/plain": [
       "<IPython.core.display.HTML object>"
      ]
     },
     "metadata": {},
     "output_type": "display_data"
    },
    {
     "data": {
      "text/html": [
       "[4] Dalamar's Lightning Lance [ D&D 3.?: <a href='https://dnd.arkalseif.info/spells/dragonlance-campaign-setting--98/dalamars-lightning-lance--5000/'>link</a> ]"
      ],
      "text/plain": [
       "<IPython.core.display.HTML object>"
      ]
     },
     "metadata": {},
     "output_type": "display_data"
    },
    {
     "data": {
      "text/html": [
       "[4] Investiture of the Amnizu [ D&D 3.?: <a href='https://dnd.arkalseif.info/spells/fiendish-codex-ii-tyrants-of-the-nine-hells--67/investiture-of-the-amnizu--1174/'>link</a> ]"
      ],
      "text/plain": [
       "<IPython.core.display.HTML object>"
      ]
     },
     "metadata": {},
     "output_type": "display_data"
    },
    {
     "data": {
      "text/html": [
       "[4] Early Twilight [ D&D 3.?: <a href='https://dnd.arkalseif.info/spells/heroes-of-battle--69/early-twilight--1411/'>link</a> ]"
      ],
      "text/plain": [
       "<IPython.core.display.HTML object>"
      ]
     },
     "metadata": {},
     "output_type": "display_data"
    },
    {
     "data": {
      "text/html": [
       "[4] Ethereal Mount [ D&D 3.?: <a href='https://dnd.arkalseif.info/spells/manual-of-the-planes--43/ethereal-mount--1855/'>link</a> ]"
      ],
      "text/plain": [
       "<IPython.core.display.HTML object>"
      ]
     },
     "metadata": {},
     "output_type": "display_data"
    },
    {
     "data": {
      "text/html": [
       "[4] Corporeal Instability [ D&D 3.?: <a href='https://dnd.arkalseif.info/spells/planar-handbook--79/corporeal-instability--2199/'>link</a> ]"
      ],
      "text/plain": [
       "<IPython.core.display.HTML object>"
      ]
     },
     "metadata": {},
     "output_type": "display_data"
    },
    {
     "data": {
      "text/html": [
       "[4] Demon Dirge [ D&D 3.?: <a href='https://dnd.arkalseif.info/spells/planar-handbook--79/demon-dirge--2200/'>link</a> ]"
      ],
      "text/plain": [
       "<IPython.core.display.HTML object>"
      ]
     },
     "metadata": {},
     "output_type": "display_data"
    },
    {
     "data": {
      "text/html": [
       "[4] Solid Fog [ D&D 3.?: <a href='https://dnd.arkalseif.info/spells/players-handbook-v35--6/solid-fog--2437/'>link</a> ]"
      ],
      "text/plain": [
       "<IPython.core.display.HTML object>"
      ]
     },
     "metadata": {},
     "output_type": "display_data"
    },
    {
     "data": {
      "text/html": [
       "[4] Wall of Salt [ D&D 3.?: <a href='https://dnd.arkalseif.info/spells/sandstorm--85/wall-of-salt--3147/'>link</a> ]"
      ],
      "text/plain": [
       "<IPython.core.display.HTML object>"
      ]
     },
     "metadata": {},
     "output_type": "display_data"
    },
    {
     "data": {
      "text/html": [
       "[4] Wall of Sand [ D&D 3.?: <a href='https://dnd.arkalseif.info/spells/sandstorm--85/wall-of-sand--3148/'>link</a> ]"
      ],
      "text/plain": [
       "<IPython.core.display.HTML object>"
      ]
     },
     "metadata": {},
     "output_type": "display_data"
    },
    {
     "data": {
      "text/html": [
       "[4] Corporeal Instability [ D&D 3.?: <a href='https://dnd.arkalseif.info/spells/spell-compendium--86/corporeal-instability--4051/'>link</a> ]"
      ],
      "text/plain": [
       "<IPython.core.display.HTML object>"
      ]
     },
     "metadata": {},
     "output_type": "display_data"
    },
    {
     "data": {
      "text/html": [
       "[4] Ethereal Mount [ D&D 3.?: <a href='https://dnd.arkalseif.info/spells/spell-compendium--86/ethereal-mount--4461/'>link</a> ]"
      ],
      "text/plain": [
       "<IPython.core.display.HTML object>"
      ]
     },
     "metadata": {},
     "output_type": "display_data"
    },
    {
     "data": {
      "text/html": [
       "[4] Know Vulnerabilities [ D&D 3.?: <a href='https://dnd.arkalseif.info/spells/spell-compendium--86/know-vulnerabilities--4333/'>link</a> ]"
      ],
      "text/plain": [
       "<IPython.core.display.HTML object>"
      ]
     },
     "metadata": {},
     "output_type": "display_data"
    },
    {
     "data": {
      "text/html": [
       "[4] Orb of Acid [ D&D 3.?: <a href='https://dnd.arkalseif.info/spells/spell-compendium--86/orb-acid--4607/'>link</a> ]"
      ],
      "text/plain": [
       "<IPython.core.display.HTML object>"
      ]
     },
     "metadata": {},
     "output_type": "display_data"
    },
    {
     "data": {
      "text/html": [
       "[4] Acid Orb [ D&D 3.?: <a href='https://dnd.arkalseif.info/spells/tome-and-blood-a-guidebook-to-wizards-and-sorcerers--51/acid-orb--3391/'>link</a> ]"
      ],
      "text/plain": [
       "<IPython.core.display.HTML object>"
      ]
     },
     "metadata": {},
     "output_type": "display_data"
    },
    {
     "data": {
      "text/html": [
       "[4] Cold Orb [ D&D 3.?: <a href='https://dnd.arkalseif.info/spells/tome-and-blood-a-guidebook-to-wizards-and-sorcerers--51/cold-orb--3393/'>link</a> ]"
      ],
      "text/plain": [
       "<IPython.core.display.HTML object>"
      ]
     },
     "metadata": {},
     "output_type": "display_data"
    },
    {
     "data": {
      "text/html": [
       "[4] Electric Orb [ D&D 3.?: <a href='https://dnd.arkalseif.info/spells/tome-and-blood-a-guidebook-to-wizards-and-sorcerers--51/electric-orb--3394/'>link</a> ]"
      ],
      "text/plain": [
       "<IPython.core.display.HTML object>"
      ]
     },
     "metadata": {},
     "output_type": "display_data"
    },
    {
     "data": {
      "text/html": [
       "[4] Fire Orb [ D&D 3.?: <a href='https://dnd.arkalseif.info/spells/tome-and-blood-a-guidebook-to-wizards-and-sorcerers--51/fire-orb--3395/'>link</a> ]"
      ],
      "text/plain": [
       "<IPython.core.display.HTML object>"
      ]
     },
     "metadata": {},
     "output_type": "display_data"
    },
    {
     "data": {
      "text/html": [
       "[4] Sonic Orb [ D&D 3.?: <a href='https://dnd.arkalseif.info/spells/tome-and-blood-a-guidebook-to-wizards-and-sorcerers--51/sonic-orb--3403/'>link</a> ]"
      ],
      "text/plain": [
       "<IPython.core.display.HTML object>"
      ]
     },
     "metadata": {},
     "output_type": "display_data"
    },
    {
     "data": {
      "text/html": [
       "[4] Force Orb [ D&D 3.?: <a href='https://dnd.arkalseif.info/spells/unapproachable-east--33/force-orb--3465/'>link</a> ]"
      ],
      "text/plain": [
       "<IPython.core.display.HTML object>"
      ]
     },
     "metadata": {},
     "output_type": "display_data"
    },
    {
     "data": {
      "text/html": [
       "[4] Viscid Glob [ D&D 3.?: <a href='https://dnd.arkalseif.info/spells/underdark--34/viscid-glob--3492/'>link</a> ]"
      ],
      "text/plain": [
       "<IPython.core.display.HTML object>"
      ]
     },
     "metadata": {},
     "output_type": "display_data"
    },
    {
     "data": {
      "text/html": [
       "[4] Solid Fog [ PF: <a href='https://cse.google.com/cse?cx=006680642033474972217%3A6zo0hx_wle8&q=Solid+Fog'>link</a> ]"
      ],
      "text/plain": [
       "<IPython.core.display.HTML object>"
      ]
     },
     "metadata": {},
     "output_type": "display_data"
    },
    {
     "data": {
      "text/html": [
       "[4] Calcific Touch [ PF: <a href='https://cse.google.com/cse?cx=006680642033474972217%3A6zo0hx_wle8&q=Calcific+Touch'>link</a> ]"
      ],
      "text/plain": [
       "<IPython.core.display.HTML object>"
      ]
     },
     "metadata": {},
     "output_type": "display_data"
    },
    {
     "data": {
      "text/html": [
       "[4] Resilient Reservoir [ PF: <a href='https://cse.google.com/cse?cx=006680642033474972217%3A6zo0hx_wle8&q=Resilient+Reservoir'>link</a> ]"
      ],
      "text/plain": [
       "<IPython.core.display.HTML object>"
      ]
     },
     "metadata": {},
     "output_type": "display_data"
    },
    {
     "data": {
      "text/html": [
       "[4] Vomit Twin [ PF: <a href='https://cse.google.com/cse?cx=006680642033474972217%3A6zo0hx_wle8&q=Vomit+Twin'>link</a> ]"
      ],
      "text/plain": [
       "<IPython.core.display.HTML object>"
      ]
     },
     "metadata": {},
     "output_type": "display_data"
    },
    {
     "data": {
      "text/html": [
       "[4] Mirror Transport [ PF: <a href='https://cse.google.com/cse?cx=006680642033474972217%3A6zo0hx_wle8&q=Mirror+Transport'>link</a> ]"
      ],
      "text/plain": [
       "<IPython.core.display.HTML object>"
      ]
     },
     "metadata": {},
     "output_type": "display_data"
    },
    {
     "data": {
      "text/html": [
       "[4] Master's Escape [ PF: <a href='https://cse.google.com/cse?cx=006680642033474972217%3A6zo0hx_wle8&q=Master's+Escape'>link</a> ]"
      ],
      "text/plain": [
       "<IPython.core.display.HTML object>"
      ]
     },
     "metadata": {},
     "output_type": "display_data"
    },
    {
     "data": {
      "text/html": [
       "[4] Elemental Mastery [ PF: <a href='https://cse.google.com/cse?cx=006680642033474972217%3A6zo0hx_wle8&q=Elemental+Mastery'>link</a> ]"
      ],
      "text/plain": [
       "<IPython.core.display.HTML object>"
      ]
     },
     "metadata": {},
     "output_type": "display_data"
    },
    {
     "data": {
      "text/html": [
       "[4] Insect Spies [ PF: <a href='https://cse.google.com/cse?cx=006680642033474972217%3A6zo0hx_wle8&q=Insect+Spies'>link</a> ]"
      ],
      "text/plain": [
       "<IPython.core.display.HTML object>"
      ]
     },
     "metadata": {},
     "output_type": "display_data"
    },
    {
     "data": {
      "text/html": [
       "[4] Revenant Armor [ PF: <a href='https://cse.google.com/cse?cx=006680642033474972217%3A6zo0hx_wle8&q=Revenant+Armor'>link</a> ]"
      ],
      "text/plain": [
       "<IPython.core.display.HTML object>"
      ]
     },
     "metadata": {},
     "output_type": "display_data"
    },
    {
     "data": {
      "text/html": [
       "[4] Pyrotechnic Eruption [ PF: <a href='https://cse.google.com/cse?cx=006680642033474972217%3A6zo0hx_wle8&q=Pyrotechnic+Eruption'>link</a> ]"
      ],
      "text/plain": [
       "<IPython.core.display.HTML object>"
      ]
     },
     "metadata": {},
     "output_type": "display_data"
    },
    {
     "data": {
      "text/html": [
       "[4] Shadow Invasion [ PF: <a href='https://cse.google.com/cse?cx=006680642033474972217%3A6zo0hx_wle8&q=Shadow+Invasion'>link</a> ]"
      ],
      "text/plain": [
       "<IPython.core.display.HTML object>"
      ]
     },
     "metadata": {},
     "output_type": "display_data"
    },
    {
     "data": {
      "text/html": [
       "[5] Freezing Fog [ D&D 3.?: <a href='https://dnd.arkalseif.info/spells/complete-arcane--55/freezing-fog--457/'>link</a> ]"
      ],
      "text/plain": [
       "<IPython.core.display.HTML object>"
      ]
     },
     "metadata": {},
     "output_type": "display_data"
    },
    {
     "data": {
      "text/html": [
       "[5] Coat of Arms [ D&D 3.?: <a href='https://dnd.arkalseif.info/spells/complete-mage--58/coat-of-arms--819/'>link</a> ]"
      ],
      "text/plain": [
       "<IPython.core.display.HTML object>"
      ]
     },
     "metadata": {},
     "output_type": "display_data"
    },
    {
     "data": {
      "text/html": [
       "[5] Lord of the Sky [ D&D 3.?: <a href='https://dnd.arkalseif.info/spells/dragon-magic--62/lord-of-the-sky--1071/'>link</a> ]"
      ],
      "text/plain": [
       "<IPython.core.display.HTML object>"
      ]
     },
     "metadata": {},
     "output_type": "display_data"
    },
    {
     "data": {
      "text/html": [
       "[5] Horizikaul's Versatile Vibration [ D&D 3.?: <a href='https://dnd.arkalseif.info/spells/magic-of-faerun--20/horizikauls-versatile-vibration--1679/'>link</a> ]"
      ],
      "text/plain": [
       "<IPython.core.display.HTML object>"
      ]
     },
     "metadata": {},
     "output_type": "display_data"
    },
    {
     "data": {
      "text/html": [
       "[5] Mana Flux [ D&D 3.?: <a href='https://dnd.arkalseif.info/spells/players-handbook-ii--80/mana-flux--2913/'>link</a> ]"
      ],
      "text/plain": [
       "<IPython.core.display.HTML object>"
      ]
     },
     "metadata": {},
     "output_type": "display_data"
    },
    {
     "data": {
      "text/html": [
       "[5] Bigby's Interposing Hand [ D&D 3.?: <a href='https://dnd.arkalseif.info/spells/players-handbook-v35--6/bigbys-interposing-hand--2587/'>link</a> ]"
      ],
      "text/plain": [
       "<IPython.core.display.HTML object>"
      ]
     },
     "metadata": {},
     "output_type": "display_data"
    },
    {
     "data": {
      "text/html": [
       "[5] Wall of Stone [ D&D 3.?: <a href='https://dnd.arkalseif.info/spells/players-handbook-v35--6/wall-of-stone--2470/'>link</a> ]"
      ],
      "text/plain": [
       "<IPython.core.display.HTML object>"
      ]
     },
     "metadata": {},
     "output_type": "display_data"
    },
    {
     "data": {
      "text/html": [
       "[5] Shape Metal [ D&D 3.?: <a href='https://dnd.arkalseif.info/spells/races-of-faerun--23/shape-metal--3067/'>link</a> ]"
      ],
      "text/plain": [
       "<IPython.core.display.HTML object>"
      ]
     },
     "metadata": {},
     "output_type": "display_data"
    },
    {
     "data": {
      "text/html": [
       "[5] Unearthly Heat [ D&D 3.?: <a href='https://dnd.arkalseif.info/spells/sandstorm--85/unearthly-heat--3183/'>link</a> ]"
      ],
      "text/plain": [
       "<IPython.core.display.HTML object>"
      ]
     },
     "metadata": {},
     "output_type": "display_data"
    },
    {
     "data": {
      "text/html": [
       "[5] Improved Enlarge [ D&D 3.?: <a href='https://dnd.arkalseif.info/spells/savage-species--47/improved-enlarge--3231/'>link</a> ]"
      ],
      "text/plain": [
       "<IPython.core.display.HTML object>"
      ]
     },
     "metadata": {},
     "output_type": "display_data"
    },
    {
     "data": {
      "text/html": [
       "[5] Improved Reduce [ D&D 3.?: <a href='https://dnd.arkalseif.info/spells/savage-species--47/improved-reduce--3232/'>link</a> ]"
      ],
      "text/plain": [
       "<IPython.core.display.HTML object>"
      ]
     },
     "metadata": {},
     "output_type": "display_data"
    },
    {
     "data": {
      "text/html": [
       "[5] Indomitability [ D&D 3.?: <a href='https://dnd.arkalseif.info/spells/spell-compendium--86/indomitability--3895/'>link</a> ]"
      ],
      "text/plain": [
       "<IPython.core.display.HTML object>"
      ]
     },
     "metadata": {},
     "output_type": "display_data"
    },
    {
     "data": {
      "text/html": [
       "[5] Sonic Rumble [ D&D 3.?: <a href='https://dnd.arkalseif.info/spells/spell-compendium--86/sonic-rumble--4193/'>link</a> ]"
      ],
      "text/plain": [
       "<IPython.core.display.HTML object>"
      ]
     },
     "metadata": {},
     "output_type": "display_data"
    },
    {
     "data": {
      "text/html": [
       "[5] Viscid Glob [ D&D 3.?: <a href='https://dnd.arkalseif.info/spells/spell-compendium--86/viscid-glob--4751/'>link</a> ]"
      ],
      "text/plain": [
       "<IPython.core.display.HTML object>"
      ]
     },
     "metadata": {},
     "output_type": "display_data"
    },
    {
     "data": {
      "text/html": [
       "[5] Blackwater Tentacle [ D&D 3.?: <a href='https://dnd.arkalseif.info/spells/stormwrack--87/blackwater-tentacle--3331/'>link</a> ]"
      ],
      "text/plain": [
       "<IPython.core.display.HTML object>"
      ]
     },
     "metadata": {},
     "output_type": "display_data"
    },
    {
     "data": {
      "text/html": [
       "[5] Interposing Hand [ PF: <a href='https://cse.google.com/cse?cx=006680642033474972217%3A6zo0hx_wle8&q=Interposing+Hand'>link</a> ]"
      ],
      "text/plain": [
       "<IPython.core.display.HTML object>"
      ]
     },
     "metadata": {},
     "output_type": "display_data"
    },
    {
     "data": {
      "text/html": [
       "[5] Wall Of Stone [ PF: <a href='https://cse.google.com/cse?cx=006680642033474972217%3A6zo0hx_wle8&q=Wall+Of+Stone'>link</a> ]"
      ],
      "text/plain": [
       "<IPython.core.display.HTML object>"
      ]
     },
     "metadata": {},
     "output_type": "display_data"
    },
    {
     "data": {
      "text/html": [
       "[5] Strip Scales [ PF: <a href='https://cse.google.com/cse?cx=006680642033474972217%3A6zo0hx_wle8&q=Strip+Scales'>link</a> ]"
      ],
      "text/plain": [
       "<IPython.core.display.HTML object>"
      ]
     },
     "metadata": {},
     "output_type": "display_data"
    },
    {
     "data": {
      "text/html": [
       "[5] Calm Air [ PF: <a href='https://cse.google.com/cse?cx=006680642033474972217%3A6zo0hx_wle8&q=Calm+Air'>link</a> ]"
      ],
      "text/plain": [
       "<IPython.core.display.HTML object>"
      ]
     },
     "metadata": {},
     "output_type": "display_data"
    },
    {
     "data": {
      "text/html": [
       "[5] Gift Of The Deep [ PF: <a href='https://cse.google.com/cse?cx=006680642033474972217%3A6zo0hx_wle8&q=Gift+Of+The+Deep'>link</a> ]"
      ],
      "text/plain": [
       "<IPython.core.display.HTML object>"
      ]
     },
     "metadata": {},
     "output_type": "display_data"
    },
    {
     "data": {
      "text/html": [
       "[5] Condensed Ether [ PF: <a href='https://cse.google.com/cse?cx=006680642033474972217%3A6zo0hx_wle8&q=Condensed+Ether'>link</a> ]"
      ],
      "text/plain": [
       "<IPython.core.display.HTML object>"
      ]
     },
     "metadata": {},
     "output_type": "display_data"
    },
    {
     "data": {
      "text/html": [
       "[5] Rune Of Ruin [ PF: <a href='https://cse.google.com/cse?cx=006680642033474972217%3A6zo0hx_wle8&q=Rune+Of+Ruin'>link</a> ]"
      ],
      "text/plain": [
       "<IPython.core.display.HTML object>"
      ]
     },
     "metadata": {},
     "output_type": "display_data"
    },
    {
     "data": {
      "text/html": [
       "[5] Sawtooth Terrain [ PF: <a href='https://cse.google.com/cse?cx=006680642033474972217%3A6zo0hx_wle8&q=Sawtooth+Terrain'>link</a> ]"
      ],
      "text/plain": [
       "<IPython.core.display.HTML object>"
      ]
     },
     "metadata": {},
     "output_type": "display_data"
    },
    {
     "data": {
      "text/html": [
       "[6] Subvert Planar Essence [ D&D 3.?: <a href='https://dnd.arkalseif.info/spells/complete-divine--56/subvert-planar-essence--752/'>link</a> ]"
      ],
      "text/plain": [
       "<IPython.core.display.HTML object>"
      ]
     },
     "metadata": {},
     "output_type": "display_data"
    },
    {
     "data": {
      "text/html": [
       "[6] Hardening [ D&D 3.?: <a href='https://dnd.arkalseif.info/spells/deities-and-demigods--39/hardening--992/'>link</a> ]"
      ],
      "text/plain": [
       "<IPython.core.display.HTML object>"
      ]
     },
     "metadata": {},
     "output_type": "display_data"
    },
    {
     "data": {
      "text/html": [
       "[6] Hardening [ D&D 3.?: <a href='https://dnd.arkalseif.info/spells/dragonlance-campaign-setting--98/hardening--5009/'>link</a> ]"
      ],
      "text/plain": [
       "<IPython.core.display.HTML object>"
      ]
     },
     "metadata": {},
     "output_type": "display_data"
    },
    {
     "data": {
      "text/html": [
       "[6] Hardening [ D&D 3.?: <a href='https://dnd.arkalseif.info/spells/eberron-campaign-setting--12/hardening--4888/'>link</a> ]"
      ],
      "text/plain": [
       "<IPython.core.display.HTML object>"
      ]
     },
     "metadata": {},
     "output_type": "display_data"
    },
    {
     "data": {
      "text/html": [
       "[6] Suppress Flame [ D&D 3.?: <a href='https://dnd.arkalseif.info/spells/frostburn--68/suppress-flame--1326/'>link</a> ]"
      ],
      "text/plain": [
       "<IPython.core.display.HTML object>"
      ]
     },
     "metadata": {},
     "output_type": "display_data"
    },
    {
     "data": {
      "text/html": [
       "[6] Overwhelming Revelations [ D&D 3.?: <a href='https://dnd.arkalseif.info/spells/magic-of-eberron--9/overwhelming-revelations--4847/'>link</a> ]"
      ],
      "text/plain": [
       "<IPython.core.display.HTML object>"
      ]
     },
     "metadata": {},
     "output_type": "display_data"
    },
    {
     "data": {
      "text/html": [
       "[6] Energy Transformation Field [ D&D 3.?: <a href='https://dnd.arkalseif.info/spells/magic-of-faerun--20/energy-transformation-field--1756/'>link</a> ]"
      ],
      "text/plain": [
       "<IPython.core.display.HTML object>"
      ]
     },
     "metadata": {},
     "output_type": "display_data"
    },
    {
     "data": {
      "text/html": [
       "[6] Hardening [ D&D 3.?: <a href='https://dnd.arkalseif.info/spells/magic-of-faerun--20/hardening--1763/'>link</a> ]"
      ],
      "text/plain": [
       "<IPython.core.display.HTML object>"
      ]
     },
     "metadata": {},
     "output_type": "display_data"
    },
    {
     "data": {
      "text/html": [
       "[6] Stone Body [ D&D 3.?: <a href='https://dnd.arkalseif.info/spells/players-guide-to-faerun--22/stone-body--2295/'>link</a> ]"
      ],
      "text/plain": [
       "<IPython.core.display.HTML object>"
      ]
     },
     "metadata": {},
     "output_type": "display_data"
    },
    {
     "data": {
      "text/html": [
       "[6] Control Water [ D&D 3.?: <a href='https://dnd.arkalseif.info/spells/players-handbook-v35--6/control-water--2796/'>link</a> ]"
      ],
      "text/plain": [
       "<IPython.core.display.HTML object>"
      ]
     },
     "metadata": {},
     "output_type": "display_data"
    },
    {
     "data": {
      "text/html": [
       "[6] Disintegrate [ D&D 3.?: <a href='https://dnd.arkalseif.info/spells/players-handbook-v35--6/disintegrate--2801/'>link</a> ]"
      ],
      "text/plain": [
       "<IPython.core.display.HTML object>"
      ]
     },
     "metadata": {},
     "output_type": "display_data"
    },
    {
     "data": {
      "text/html": [
       "[6] Stone Body [ D&D 3.?: <a href='https://dnd.arkalseif.info/spells/races-of-faerun--23/stone-body--3055/'>link</a> ]"
      ],
      "text/plain": [
       "<IPython.core.display.HTML object>"
      ]
     },
     "metadata": {},
     "output_type": "display_data"
    },
    {
     "data": {
      "text/html": [
       "[6] Freezing Fog [ D&D 3.?: <a href='https://dnd.arkalseif.info/spells/spell-compendium--86/freezing-fog--4539/'>link</a> ]"
      ],
      "text/plain": [
       "<IPython.core.display.HTML object>"
      ]
     },
     "metadata": {},
     "output_type": "display_data"
    },
    {
     "data": {
      "text/html": [
       "[6] Stone Body [ D&D 3.?: <a href='https://dnd.arkalseif.info/spells/spell-compendium--86/stone-body--4235/'>link</a> ]"
      ],
      "text/plain": [
       "<IPython.core.display.HTML object>"
      ]
     },
     "metadata": {},
     "output_type": "display_data"
    },
    {
     "data": {
      "text/html": [
       "[6] Subvert Planar Essence [ D&D 3.?: <a href='https://dnd.arkalseif.info/spells/spell-compendium--86/subvert-planar-essence--4259/'>link</a> ]"
      ],
      "text/plain": [
       "<IPython.core.display.HTML object>"
      ]
     },
     "metadata": {},
     "output_type": "display_data"
    },
    {
     "data": {
      "text/html": [
       "[6] Control Water [ PF: <a href='https://cse.google.com/cse?cx=006680642033474972217%3A6zo0hx_wle8&q=Control+Water'>link</a> ]"
      ],
      "text/plain": [
       "<IPython.core.display.HTML object>"
      ]
     },
     "metadata": {},
     "output_type": "display_data"
    },
    {
     "data": {
      "text/html": [
       "[6] Disintegrate [ PF: <a href='https://cse.google.com/cse?cx=006680642033474972217%3A6zo0hx_wle8&q=Disintegrate'>link</a> ]"
      ],
      "text/plain": [
       "<IPython.core.display.HTML object>"
      ]
     },
     "metadata": {},
     "output_type": "display_data"
    },
    {
     "data": {
      "text/html": [
       "[6] Genius Avaricious [ PF: <a href='https://cse.google.com/cse?cx=006680642033474972217%3A6zo0hx_wle8&q=Genius+Avaricious'>link</a> ]"
      ],
      "text/plain": [
       "<IPython.core.display.HTML object>"
      ]
     },
     "metadata": {},
     "output_type": "display_data"
    },
    {
     "data": {
      "text/html": [
       "[6] Dimensional Blade [ PF: <a href='https://cse.google.com/cse?cx=006680642033474972217%3A6zo0hx_wle8&q=Dimensional+Blade'>link</a> ]"
      ],
      "text/plain": [
       "<IPython.core.display.HTML object>"
      ]
     },
     "metadata": {},
     "output_type": "display_data"
    },
    {
     "data": {
      "text/html": [
       "[6] Oasis [ PF: <a href='https://cse.google.com/cse?cx=006680642033474972217%3A6zo0hx_wle8&q=Oasis'>link</a> ]"
      ],
      "text/plain": [
       "<IPython.core.display.HTML object>"
      ]
     },
     "metadata": {},
     "output_type": "display_data"
    },
    {
     "data": {
      "text/html": [
       "[6] Mage's Decree [ PF: <a href='https://cse.google.com/cse?cx=006680642033474972217%3A6zo0hx_wle8&q=Mage's+Decree'>link</a> ]"
      ],
      "text/plain": [
       "<IPython.core.display.HTML object>"
      ]
     },
     "metadata": {},
     "output_type": "display_data"
    },
    {
     "data": {
      "text/html": [
       "[6] Wall Of Silver [ PF: <a href='https://cse.google.com/cse?cx=006680642033474972217%3A6zo0hx_wle8&q=Wall+Of+Silver'>link</a> ]"
      ],
      "text/plain": [
       "<IPython.core.display.HTML object>"
      ]
     },
     "metadata": {},
     "output_type": "display_data"
    },
    {
     "data": {
      "text/html": [
       "[6] Hellfire Ray [ PF: <a href='https://cse.google.com/cse?cx=006680642033474972217%3A6zo0hx_wle8&q=Hellfire+Ray'>link</a> ]"
      ],
      "text/plain": [
       "<IPython.core.display.HTML object>"
      ]
     },
     "metadata": {},
     "output_type": "display_data"
    },
    {
     "data": {
      "text/html": [
       "[7] Amber Sarcophagus [ D&D 3.?: <a href='https://dnd.arkalseif.info/spells/book-of-exalted-deeds--52/amber-sarcophagus--59/'>link</a> ]"
      ],
      "text/plain": [
       "<IPython.core.display.HTML object>"
      ]
     },
     "metadata": {},
     "output_type": "display_data"
    },
    {
     "data": {
      "text/html": [
       "[7] Arcane Spellsurge [ D&D 3.?: <a href='https://dnd.arkalseif.info/spells/dragon-magic--62/arcane-spellsurge--1093/'>link</a> ]"
      ],
      "text/plain": [
       "<IPython.core.display.HTML object>"
      ]
     },
     "metadata": {},
     "output_type": "display_data"
    },
    {
     "data": {
      "text/html": [
       "[7] Vitrify [ D&D 3.?: <a href='https://dnd.arkalseif.info/spells/sandstorm--85/vitrify--3184/'>link</a> ]"
      ],
      "text/plain": [
       "<IPython.core.display.HTML object>"
      ]
     },
     "metadata": {},
     "output_type": "display_data"
    },
    {
     "data": {
      "text/html": [
       "[7] Stone Body [ D&D 3.?: <a href='https://dnd.arkalseif.info/spells/savage-species--47/stone-body--3243/'>link</a> ]"
      ],
      "text/plain": [
       "<IPython.core.display.HTML object>"
      ]
     },
     "metadata": {},
     "output_type": "display_data"
    },
    {
     "data": {
      "text/html": [
       "[7] Energy Transformation Field [ D&D 3.?: <a href='https://dnd.arkalseif.info/spells/spell-compendium--86/energy-transformation-field--4443/'>link</a> ]"
      ],
      "text/plain": [
       "<IPython.core.display.HTML object>"
      ]
     },
     "metadata": {},
     "output_type": "display_data"
    },
    {
     "data": {
      "text/html": [
       "[7] Changestones [ D&D 3.?: <a href='https://dnd.arkalseif.info/spells/underdark--34/changestones--3507/'>link</a> ]"
      ],
      "text/plain": [
       "<IPython.core.display.HTML object>"
      ]
     },
     "metadata": {},
     "output_type": "display_data"
    },
    {
     "data": {
      "text/html": [
       "[7] Artificer's Curse [ PF: <a href='https://cse.google.com/cse?cx=006680642033474972217%3A6zo0hx_wle8&q=Artificer's+Curse'>link</a> ]"
      ],
      "text/plain": [
       "<IPython.core.display.HTML object>"
      ]
     },
     "metadata": {},
     "output_type": "display_data"
    }
   ],
   "source": [
    "result_spells = spellbook.search_spells([ ['description','AC'], ['description','reduce'] ])\n",
    "print_result_spells(result_spells)"
   ]
  },
  {
   "cell_type": "code",
   "execution_count": null,
   "metadata": {},
   "outputs": [],
   "source": [
    "result_spells = spellbook.search_spells([ ['school','abjuration'],  ])\n",
    "print_result_spells(result_spells)"
   ]
  },
  {
   "cell_type": "code",
   "execution_count": null,
   "metadata": {
    "scrolled": true
   },
   "outputs": [],
   "source": [
    "result_spells = spellbook.search_spells([ ['name','jump'], ['duration','level'] ])\n",
    "print_result_spells(result_spells)"
   ]
  },
  {
   "cell_type": "code",
   "execution_count": null,
   "metadata": {
    "scrolled": true
   },
   "outputs": [],
   "source": [
    "result_spells = spellbook.search_spells([ ['name','jump'], ])\n",
    "print_result_spells(result_spells)\n",
    "for s in result_spells:\n",
    "    print(s.duration)"
   ]
  },
  {
   "cell_type": "code",
   "execution_count": null,
   "metadata": {
    "scrolled": false
   },
   "outputs": [],
   "source": [
    "persistable = spellbook.search_spells([ ['duration not','instantaneous'],\n",
    "                                        ['duration not','permanent'],\n",
    "                                        ['range not','level'],\n",
    "                                        ['range not','touch'] ])"
   ]
  },
  {
   "cell_type": "code",
   "execution_count": null,
   "metadata": {},
   "outputs": [],
   "source": [
    "spellbook = []\n",
    "for s in library:\n",
    "    if not s.in_schools('necromancy') and not s.in_schools('illusion') and not s.in_schools('enchantment'):\n",
    "        if s.in_classes('wizard'):\n",
    "            spellbook.append(s)"
   ]
  },
  {
   "cell_type": "code",
   "execution_count": null,
   "metadata": {},
   "outputs": [],
   "source": [
    "persistable = spellbook\n",
    "persistable = [ s for s in persistable if s.duration and 'instantaneous' not in s.duration ]\n",
    "persistable = [ s for s in persistable if s.duration and 'permanent' not in s.duration ]\n",
    "persistable = [ s for s in persistable if s.range and 'level' not in s.range ]\n",
    "persistable = [ s for s in persistable if s.range and 'touch' not in s.range ]\n",
    "persistable.sort(key=lambda s: s.levels['wizard'])"
   ]
  },
  {
   "cell_type": "code",
   "execution_count": null,
   "metadata": {},
   "outputs": [],
   "source": [
    "def find_original_spell(s,snames):\n",
    "    nextw = []\n",
    "    \n",
    "    nopunct = str.maketrans('', '', string.punctuation)\n",
    "    dterms = s.description.lower().translate(nopunct).split()\n",
    "    \n",
    "    for iw,w in enumerate(dterms):\n",
    "        if w == \"as\":\n",
    "            for sn in snames:\n",
    "                if dterms[iw-1] != \"such\" and dterms[iw+1:iw+1+len(sn)] == sn:\n",
    "                    nextw.append(s.name+\" ::: \"+' '.join(sn))\n",
    "                    break\n",
    "\n",
    "    return nextw"
   ]
  },
  {
   "cell_type": "code",
   "execution_count": null,
   "metadata": {},
   "outputs": [],
   "source": [
    "nopunct = str.maketrans('', '', string.punctuation)\n",
    "snames = [ s2.name.lower().translate(nopunct).split() for s2 in library ]\n",
    "\n",
    "nextw = []\n",
    "for s in library: \n",
    "    nextw += find_original_spell(s,snames)\n",
    "nextw.sort()"
   ]
  }
 ],
 "metadata": {
  "kernelspec": {
   "display_name": "Python 3",
   "language": "python",
   "name": "python3"
  },
  "language_info": {
   "codemirror_mode": {
    "name": "ipython",
    "version": 3
   },
   "file_extension": ".py",
   "mimetype": "text/x-python",
   "name": "python",
   "nbconvert_exporter": "python",
   "pygments_lexer": "ipython3",
   "version": "3.6.4"
  }
 },
 "nbformat": 4,
 "nbformat_minor": 2
}
